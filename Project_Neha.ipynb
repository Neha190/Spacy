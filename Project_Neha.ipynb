{
 "cells": [
  {
   "cell_type": "markdown",
   "metadata": {},
   "source": [
    "## Separating Video frm Audio"
   ]
  },
  {
   "cell_type": "code",
   "execution_count": 4,
   "metadata": {},
   "outputs": [],
   "source": [
    "# IMPORTING THE REQUIRED LIBRARY\n",
    "import moviepy.editor as mp"
   ]
  },
  {
   "cell_type": "code",
   "execution_count": 5,
   "metadata": {},
   "outputs": [
    {
     "data": {
      "text/plain": [
       "<moviepy.video.io.VideoFileClip.VideoFileClip at 0x1ca148428c8>"
      ]
     },
     "execution_count": 5,
     "metadata": {},
     "output_type": "execute_result"
    }
   ],
   "source": [
    "# Loading the video file\n",
    "my_clip = mp.VideoFileClip(\"Learn Real English _ Real Engilsh Conversations lessons.mp4\")\n",
    "my_clip"
   ]
  },
  {
   "cell_type": "code",
   "execution_count": 6,
   "metadata": {
    "scrolled": true
   },
   "outputs": [
    {
     "name": "stdout",
     "output_type": "stream",
     "text": [
      "MoviePy - Writing audio in my_result.mp3\n"
     ]
    },
    {
     "name": "stderr",
     "output_type": "stream",
     "text": [
      "                                                                     "
     ]
    },
    {
     "name": "stdout",
     "output_type": "stream",
     "text": [
      "MoviePy - Done.\n"
     ]
    },
    {
     "name": "stderr",
     "output_type": "stream",
     "text": [
      "\r"
     ]
    }
   ],
   "source": [
    "\n",
    "my_clip.audio.write_audiofile(\"my_result.mp3\")"
   ]
  },
  {
   "cell_type": "markdown",
   "metadata": {},
   "source": [
    "## Converting Audio Speech into text"
   ]
  },
  {
   "cell_type": "code",
   "execution_count": 38,
   "metadata": {},
   "outputs": [],
   "source": [
    "import speech_recognition as sr\n"
   ]
  },
  {
   "cell_type": "code",
   "execution_count": 39,
   "metadata": {},
   "outputs": [],
   "source": [
    "r=sr.Recognizer()"
   ]
  },
  {
   "cell_type": "code",
   "execution_count": 40,
   "metadata": {},
   "outputs": [
    {
     "name": "stdout",
     "output_type": "stream",
     "text": [
      "Working on...\n",
      "hi I am AJ hug of learn real English have you learnt textbook English in school but struggled to understand the real English that people speak on the street in restaurant in hotel you feel in 12 sinchai sometimes when you try to speak English you feel nervous about speaking English are you frustrated after years and years and years of studying grammar and textbooks and still you are unable to speak well you have trouble understanding American movies American Television most people learn with your message with traditional School methods have the exact same problem our real English conversations course is designed to teach you to understand Rial English and use Rio English what is real English real English is the natural English we use everyday Americans canadians British people when we talk to friends when we talk to family in a business meaning English to hear on television from movies it's not the phone textbook English you Garden School would you join our real English conversations course you get a six month for each unit includes Rio conversation two or more native speakers Americans talking to each other having a natural conversation there are not reading a script not reading from an airline is the natural conversation for normal topic not when you get the text with friends trip you can read along and understand everything you get a vocabulary lesson that explain the flying the idioms any other difficult vocabulary in each conversation you get a mini story lesson where you learn English using stories powerful way to learn to speak to improve your listening to get grammar skills and to be build your vocabulary you get up with a view story views stories tq grammar natural way to a children 18 not by studying long with the real English conversation was bringing you the best love English join the course now and speak English clearly and powerful teaching you\n"
     ]
    }
   ],
   "source": [
    "with sr.AudioFile('my_result (1).wav') as source:\n",
    "    audio= r.listen(source)\n",
    "    try:\n",
    "        text= r.recognize_google(audio)\n",
    "        print('Working on...')\n",
    "        print(text)\n",
    "    except:\n",
    "        print('Please try again')"
   ]
  },
  {
   "cell_type": "markdown",
   "metadata": {},
   "source": [
    "## Fetching entities from text"
   ]
  },
  {
   "cell_type": "code",
   "execution_count": 10,
   "metadata": {},
   "outputs": [],
   "source": [
    "import spacy\n"
   ]
  },
  {
   "cell_type": "code",
   "execution_count": 11,
   "metadata": {},
   "outputs": [],
   "source": [
    "nlp=spacy.load(\"en_core_web_sm\")"
   ]
  },
  {
   "cell_type": "code",
   "execution_count": 66,
   "metadata": {},
   "outputs": [],
   "source": [
    "text=('Hi I am AJ hug of learn real English have you learnt textbook English in school but struggled to understand the real English '\n",
    "      'that people speak on the street in restaurant in hotel you feel in 12 sinchai' \n",
    "      'sometimes when you try to speak English you feel nervous about speaking English' \n",
    "      'are you frustrated after years and years and years of studying grammar and textbooks and still'\n",
    "      'you are unable to speak well you have trouble understanding American movies'\n",
    "      'American Television most people learn with your message with traditional School methods' \n",
    "      'have the exact same problem our real English conversations course is designed to teach you to' \n",
    "      'understand Rial English and use Rio English what is real English real'\n",
    "      'English is the natural English we use everyday Americans canadians British'\n",
    "      'people when we talk to friends when we talk to family in a business meaning English'\n",
    "      'to hear on television from movies its not the phone textbook English you Garden School'\n",
    "      'would you join our real English conversations course you get a six month for each unit'\n",
    "      'includes Rio conversation two or more native speakers Americans talking to each other'\n",
    "      'having a natural conversation there are not reading a script not reading from an airline'\n",
    "      'is the natural conversation for normal topic not when you get the text with friends trip'\n",
    "      'you can read along and understand everything you get a vocabulary lesson that explain the'\n",
    "      'flying the idioms any other difficult vocabulary in each conversation you get a mini story'\n",
    "      'lesson where you learn English using stories powerful way to learn to speak to improve your'\n",
    "      'listening to get grammar skills and to be build your vocabulary you get up with a view story'\n",
    "      'views stories tq grammar natural way to a children 18 not by studying long with the real'\n",
    "      'English conversation was bringing you the best love English join the course now and speak'\n",
    "      'English clearly and powerful teaching you')"
   ]
  },
  {
   "cell_type": "code",
   "execution_count": 67,
   "metadata": {},
   "outputs": [],
   "source": [
    "doc=nlp(text)"
   ]
  },
  {
   "cell_type": "code",
   "execution_count": 68,
   "metadata": {},
   "outputs": [
    {
     "name": "stdout",
     "output_type": "stream",
     "text": [
      "English LANGUAGE\n",
      "English LANGUAGE\n",
      "English LANGUAGE\n",
      "12 CARDINAL\n",
      "English LANGUAGE\n",
      "Englishare ORG\n",
      "years DATE\n",
      "years DATE\n",
      "years DATE\n",
      "American NORP\n",
      "English LANGUAGE\n",
      "Rial English PERSON\n",
      "Rio English PERSON\n",
      "English LANGUAGE\n",
      "English LANGUAGE\n",
      "Americans NORP\n",
      "Britishpeople ORG\n",
      "Englishto ORG\n",
      "English LANGUAGE\n",
      "English LANGUAGE\n",
      "six month DATE\n",
      "Rio ORG\n",
      "two CARDINAL\n",
      "Americans NORP\n",
      "English LANGUAGE\n",
      "18 CARDINAL\n",
      "English NORP\n"
     ]
    }
   ],
   "source": [
    "for entity in doc.ents:\n",
    "    print(entity.text,entity.label_)"
   ]
  },
  {
   "cell_type": "code",
   "execution_count": 69,
   "metadata": {},
   "outputs": [
    {
     "data": {
      "text/plain": [
       "'Nationalities or religious or political groups'"
      ]
     },
     "execution_count": 69,
     "metadata": {},
     "output_type": "execute_result"
    }
   ],
   "source": [
    "spacy.explain('NORP')"
   ]
  },
  {
   "cell_type": "code",
   "execution_count": null,
   "metadata": {},
   "outputs": [],
   "source": []
  }
 ],
 "metadata": {
  "kernelspec": {
   "display_name": "Python 3",
   "language": "python",
   "name": "python3"
  },
  "language_info": {
   "codemirror_mode": {
    "name": "ipython",
    "version": 3
   },
   "file_extension": ".py",
   "mimetype": "text/x-python",
   "name": "python",
   "nbconvert_exporter": "python",
   "pygments_lexer": "ipython3",
   "version": "3.7.6"
  }
 },
 "nbformat": 4,
 "nbformat_minor": 4
}
